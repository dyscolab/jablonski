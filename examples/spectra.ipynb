{
 "cells": [
  {
   "cell_type": "code",
   "execution_count": 1,
   "metadata": {},
   "outputs": [],
   "source": [
    "import sys\n",
    "sys.path.append(\"/Users/grecco/Documents/code/jablonski/src\")\n",
    "\n",
    "import numpy as np\n",
    "import pint\n",
    "from jablonski import SpectroscopicSystem, transitions, util, initial\n",
    "from jablonski import simulation\n",
    "from poincare import Simulator\n",
    "\n",
    "ureg = pint.get_application_registry()\n"
   ]
  },
  {
   "cell_type": "code",
   "execution_count": 2,
   "metadata": {},
   "outputs": [],
   "source": [
    "from jablonski.states import SingletState, TripletState\n",
    "\n",
    "\n",
    "class MySystem(SpectroscopicSystem):\n",
    "\n",
    "    high: SingletState = initial(energy=3 * ureg.eV, default=1)\n",
    "    low: SingletState = initial(energy=0 * ureg.eV, default=0)\n",
    "    \n",
    "    pump = transitions.Absorption(ground=low, excited=high, rate=1 / ureg.s)\n",
    "    emission = transitions.Fluorescence(ground=low, excited=high, rate=1 / ureg.s)"
   ]
  },
  {
   "cell_type": "code",
   "execution_count": 3,
   "metadata": {},
   "outputs": [
    {
     "name": "stderr",
     "output_type": "stream",
     "text": [
      "/Users/grecco/Documents/code/poincare/src/poincare/simulator.py:169: UnitStrippedWarning: The unit of the quantity is stripped when downcasting to ndarray.\n",
      "  solution = solver(problem, save_at=np.asarray(save_at))\n"
     ]
    },
    {
     "data": {
      "text/html": [
       "<div>\n",
       "<style scoped>\n",
       "    .dataframe tbody tr th:only-of-type {\n",
       "        vertical-align: middle;\n",
       "    }\n",
       "\n",
       "    .dataframe tbody tr th {\n",
       "        vertical-align: top;\n",
       "    }\n",
       "\n",
       "    .dataframe thead th {\n",
       "        text-align: right;\n",
       "    }\n",
       "</style>\n",
       "<table border=\"1\" class=\"dataframe\">\n",
       "  <thead>\n",
       "    <tr style=\"text-align: right;\">\n",
       "      <th></th>\n",
       "      <th>high</th>\n",
       "      <th>low</th>\n",
       "    </tr>\n",
       "    <tr>\n",
       "      <th>time</th>\n",
       "      <th></th>\n",
       "      <th></th>\n",
       "    </tr>\n",
       "  </thead>\n",
       "  <tbody>\n",
       "    <tr>\n",
       "      <th>0</th>\n",
       "      <td>1.000000</td>\n",
       "      <td>0.000000</td>\n",
       "    </tr>\n",
       "    <tr>\n",
       "      <th>1</th>\n",
       "      <td>0.567657</td>\n",
       "      <td>0.432343</td>\n",
       "    </tr>\n",
       "    <tr>\n",
       "      <th>2</th>\n",
       "      <td>0.509163</td>\n",
       "      <td>0.490837</td>\n",
       "    </tr>\n",
       "  </tbody>\n",
       "</table>\n",
       "</div>"
      ],
      "text/plain": [
       "          high       low\n",
       "time                    \n",
       "0     1.000000  0.000000\n",
       "1     0.567657  0.432343\n",
       "2     0.509163  0.490837"
      ]
     },
     "execution_count": 3,
     "metadata": {},
     "output_type": "execute_result"
    }
   ],
   "source": [
    "from poincare import Simulator\n",
    "\n",
    "sim = Simulator(\n",
    "    MySystem, \n",
    "    # transform={\"tmp\": MySystem.emission.radiative_decay}\n",
    ")\n",
    "sol = sim.solve(save_at=np.arange(3) * ureg.s)\n",
    "sol"
   ]
  },
  {
   "cell_type": "code",
   "execution_count": 4,
   "metadata": {},
   "outputs": [
    {
     "data": {
      "text/plain": [
       "(Index([0, 1, 2], dtype='int64', name='time'),\n",
       " array([1.        , 0.56765698, 0.50916272]))"
      ]
     },
     "execution_count": 4,
     "metadata": {},
     "output_type": "execute_result"
    }
   ],
   "source": [
    "import pandas as pd\n",
    "sol.index, sol.high.values"
   ]
  },
  {
   "cell_type": "code",
   "execution_count": 5,
   "metadata": {},
   "outputs": [
    {
     "name": "stdout",
     "output_type": "stream",
     "text": [
      "{'lines': {'line0': Fluorescence(ground=low,excited=high,rate=1 / second)}}\n"
     ]
    },
    {
     "data": {
      "text/html": [
       "<div>\n",
       "<style scoped>\n",
       "    .dataframe tbody tr th:only-of-type {\n",
       "        vertical-align: middle;\n",
       "    }\n",
       "\n",
       "    .dataframe tbody tr th {\n",
       "        vertical-align: top;\n",
       "    }\n",
       "\n",
       "    .dataframe thead th {\n",
       "        text-align: right;\n",
       "    }\n",
       "</style>\n",
       "<table border=\"1\" class=\"dataframe\">\n",
       "  <thead>\n",
       "    <tr style=\"text-align: right;\">\n",
       "      <th></th>\n",
       "      <th>line0</th>\n",
       "    </tr>\n",
       "    <tr>\n",
       "      <th>time</th>\n",
       "      <th></th>\n",
       "    </tr>\n",
       "  </thead>\n",
       "  <tbody>\n",
       "    <tr>\n",
       "      <th>0.000000</th>\n",
       "      <td>1.0</td>\n",
       "    </tr>\n",
       "    <tr>\n",
       "      <th>0.204082</th>\n",
       "      <td>1.0</td>\n",
       "    </tr>\n",
       "    <tr>\n",
       "      <th>0.408163</th>\n",
       "      <td>0.8324492884917054</td>\n",
       "    </tr>\n",
       "    <tr>\n",
       "      <th>0.612245</th>\n",
       "      <td>0.721028445483796</td>\n",
       "    </tr>\n",
       "    <tr>\n",
       "      <th>0.816327</th>\n",
       "      <td>0.6469182303223009</td>\n",
       "    </tr>\n",
       "  </tbody>\n",
       "</table>\n",
       "</div>"
      ],
      "text/plain": [
       "                       line0\n",
       "time                        \n",
       "0.000000                 1.0\n",
       "0.204082                 1.0\n",
       "0.408163  0.8324492884917054\n",
       "0.612245   0.721028445483796\n",
       "0.816327  0.6469182303223009"
      ]
     },
     "execution_count": 5,
     "metadata": {},
     "output_type": "execute_result"
    }
   ],
   "source": [
    "df = simulation.time_resolved_emission(\n",
    "    MySystem, \n",
    "    simulation.pulse_excitation(MySystem.pump, 1, 1 * ureg.second),\n",
    "    save_at=np.linspace(0, 10)# * ureg.s,\n",
    ")\n",
    "\n",
    "import matplotlib.pyplot as plt\n",
    "print(df.attrs)\n",
    "df.head()"
   ]
  },
  {
   "cell_type": "code",
   "execution_count": 9,
   "metadata": {},
   "outputs": [
    {
     "name": "stdout",
     "output_type": "stream",
     "text": [
      "{'last_state': {high: np.float64(1.0), low: np.float64(0.0)}, 'lines': {'line0': Fluorescence(ground=low,excited=high,rate=1 / second)}}\n"
     ]
    },
    {
     "data": {
      "text/html": [
       "<div>\n",
       "<style scoped>\n",
       "    .dataframe tbody tr th:only-of-type {\n",
       "        vertical-align: middle;\n",
       "    }\n",
       "\n",
       "    .dataframe tbody tr th {\n",
       "        vertical-align: top;\n",
       "    }\n",
       "\n",
       "    .dataframe thead th {\n",
       "        text-align: right;\n",
       "    }\n",
       "</style>\n",
       "<table border=\"1\" class=\"dataframe\">\n",
       "  <thead>\n",
       "    <tr style=\"text-align: right;\">\n",
       "      <th></th>\n",
       "      <th>line0</th>\n",
       "    </tr>\n",
       "    <tr>\n",
       "      <th>time</th>\n",
       "      <th></th>\n",
       "    </tr>\n",
       "  </thead>\n",
       "  <tbody>\n",
       "    <tr>\n",
       "      <th>100</th>\n",
       "      <td>1.0</td>\n",
       "    </tr>\n",
       "  </tbody>\n",
       "</table>\n",
       "</div>"
      ],
      "text/plain": [
       "      line0\n",
       "time       \n",
       "100     1.0"
      ]
     },
     "execution_count": 9,
     "metadata": {},
     "output_type": "execute_result"
    }
   ],
   "source": [
    "df = simulation.steady_state_emission(\n",
    "    MySystem, \n",
    "    MySystem.pump, 1,\n",
    ")\n",
    "\n",
    "import matplotlib.pyplot as plt\n",
    "print(df.attrs)\n",
    "df.head()"
   ]
  },
  {
   "cell_type": "code",
   "execution_count": null,
   "metadata": {},
   "outputs": [],
   "source": []
  }
 ],
 "metadata": {
  "kernelspec": {
   "display_name": "jablonski312",
   "language": "python",
   "name": "python3"
  },
  "language_info": {
   "codemirror_mode": {
    "name": "ipython",
    "version": 3
   },
   "file_extension": ".py",
   "mimetype": "text/x-python",
   "name": "python",
   "nbconvert_exporter": "python",
   "pygments_lexer": "ipython3",
   "version": "3.12.4"
  }
 },
 "nbformat": 4,
 "nbformat_minor": 2
}
